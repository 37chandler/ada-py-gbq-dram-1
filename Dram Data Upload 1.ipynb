{
 "cells": [
  {
   "cell_type": "markdown",
   "id": "25b450e8",
   "metadata": {},
   "source": [
    "## Dram Data Upload\n",
    "\n",
    "In this assignment, you'll upload Dram shop data to your GBQ account and run a couple of queries against it. The data for this assignment is in a .csv file callled `items-2022-01-01-2022-10-01.csv`. Save this file into the same folder as this repository. This is an example of item-level reports exported from the point-of-sale system at the Dram shop.\n",
    "\n",
    "Your goals are to upload this file to a table in a GBQ data set that you create. Call the table `dram_items_2022`. \n",
    "As always, make sure _not_ to commit any big data files or API keys to your repo.\n",
    "\n",
    "Make your data pipeline idempotent, which means you will be checking for the presence of your tables and, if they exist, deleting them before recreating them. \n"
   ]
  },
  {
   "cell_type": "code",
   "execution_count": null,
   "id": "d5d503d8",
   "metadata": {},
   "outputs": [],
   "source": [
    "import os\n",
    "import re\n",
    "import datetime \n",
    "\n",
    "import pandas as pd\n",
    "import numpy as np\n",
    "import pandas_gbq\n",
    "import janitor\n",
    "\n",
    "# Do our imports for the code\n",
    "from google.cloud import bigquery\n",
    "from google.oauth2 import service_account"
   ]
  },
  {
   "cell_type": "markdown",
   "id": "3813e659",
   "metadata": {},
   "source": [
    "### GBQ Set Up\n",
    "\n",
    "In this next section we connect to our GBQ project and list the data sets inside to test the connection."
   ]
  },
  {
   "cell_type": "code",
   "execution_count": null,
   "id": "d825198a",
   "metadata": {},
   "outputs": [],
   "source": [
    "# These first two values will be different on your machine. \n",
    "service_path = \"/Users/chandler/Dropbox/Teaching/\"\n",
    "service_file = 'umt-msba-037daf11ee16.json' # change this to your authentication information  \n",
    "gbq_proj_id = 'umt-msba' # change this to your project. \n",
    "\n",
    "# And this should stay the same. \n",
    "private_key =service_path + service_file"
   ]
  },
  {
   "cell_type": "code",
   "execution_count": null,
   "id": "ca232504",
   "metadata": {},
   "outputs": [],
   "source": [
    "# Now we pass in our credentials so that Python has permission to access our project.\n",
    "credentials = service_account.Credentials.from_service_account_file(service_path + service_file)"
   ]
  },
  {
   "cell_type": "code",
   "execution_count": null,
   "id": "c4a6d11c",
   "metadata": {},
   "outputs": [],
   "source": [
    "# And finally we establish our connection\n",
    "client = bigquery.Client(credentials = credentials, project=gbq_proj_id)"
   ]
  },
  {
   "cell_type": "code",
   "execution_count": null,
   "id": "86fa696d",
   "metadata": {},
   "outputs": [],
   "source": [
    "for item in client.list_datasets() : \n",
    "    print(item.full_dataset_id)"
   ]
  },
  {
   "cell_type": "markdown",
   "id": "08e1e74c",
   "metadata": {},
   "source": [
    "### Checking for and deleting monthly tables\n",
    "\n",
    "In this section, check for a table with the name `dram_items_2022`. If that table exists, delete it with the `delete_table` function. "
   ]
  },
  {
   "cell_type": "code",
   "execution_count": null,
   "id": "b57a0e13",
   "metadata": {},
   "outputs": [],
   "source": [
    "# Your code here\n",
    "\n",
    "\n",
    "\n"
   ]
  },
  {
   "cell_type": "markdown",
   "id": "129b9631",
   "metadata": {},
   "source": [
    "### Reading in and modifying data\n",
    "\n",
    "In this section, read in the data using the Pandas `read_csv` function. Once you've read in the data, make the following modifications to it: \n",
    "\n",
    "* Convert the fields that have dollar signs (such as `gross_sales`) into numeric data. Watch out for dollar signs and commas.\n",
    "* Change the type of the column `modifiers_applied` to string.\n",
    "* Replace the `squ` column with a column of empty strings. \n"
   ]
  },
  {
   "cell_type": "code",
   "execution_count": null,
   "id": "0a54dc09",
   "metadata": {},
   "outputs": [],
   "source": [
    "# Your code here.\n",
    "\n",
    "\n",
    "\n",
    "\n",
    "\n"
   ]
  },
  {
   "cell_type": "markdown",
   "id": "176e465a",
   "metadata": {},
   "source": [
    "### Upoad your data to GBQ\n",
    "\n",
    "Using the Pandas function `to_gbq`, upload your data to GBQ."
   ]
  },
  {
   "cell_type": "code",
   "execution_count": null,
   "id": "cff4b235",
   "metadata": {},
   "outputs": [],
   "source": [
    "# Your code here\n",
    "\n",
    "\n",
    "\n"
   ]
  },
  {
   "cell_type": "markdown",
   "id": "181004b7",
   "metadata": {},
   "source": [
    "### Query your data\n",
    "\n",
    "TK"
   ]
  },
  {
   "cell_type": "code",
   "execution_count": null,
   "id": "fd1d675c",
   "metadata": {},
   "outputs": [],
   "source": [
    "# Your code here \n",
    "\n",
    "\n",
    "\n"
   ]
  }
 ],
 "metadata": {
  "kernelspec": {
   "display_name": "Python 3 (ipykernel)",
   "language": "python",
   "name": "python3"
  },
  "language_info": {
   "codemirror_mode": {
    "name": "ipython",
    "version": 3
   },
   "file_extension": ".py",
   "mimetype": "text/x-python",
   "name": "python",
   "nbconvert_exporter": "python",
   "pygments_lexer": "ipython3",
   "version": "3.8.8"
  }
 },
 "nbformat": 4,
 "nbformat_minor": 5
}
